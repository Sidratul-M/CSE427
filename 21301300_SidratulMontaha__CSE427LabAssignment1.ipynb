{
  "nbformat": 4,
  "nbformat_minor": 0,
  "metadata": {
    "colab": {
      "provenance": [],
      "authorship_tag": "ABX9TyNozjZJZnnDu6c8Kr8BxtKW",
      "include_colab_link": true
    },
    "kernelspec": {
      "name": "python3",
      "display_name": "Python 3"
    },
    "language_info": {
      "name": "python"
    }
  },
  "cells": [
    {
      "cell_type": "markdown",
      "metadata": {
        "id": "view-in-github",
        "colab_type": "text"
      },
      "source": [
        "<a href=\"https://colab.research.google.com/github/Sidratul-M/CSE427/blob/main/21301300_SidratulMontaha__CSE427LabAssignment1.ipynb\" target=\"_parent\"><img src=\"https://colab.research.google.com/assets/colab-badge.svg\" alt=\"Open In Colab\"/></a>"
      ]
    },
    {
      "cell_type": "code",
      "execution_count": 47,
      "metadata": {
        "id": "O6JBLGhFGn99"
      },
      "outputs": [],
      "source": [
        "import numpy as np"
      ]
    },
    {
      "cell_type": "code",
      "source": [
        "#1\n",
        "a = np.random.randint(1, 101, size=20).tolist()\n",
        "b = np.random.randint(1, 101, size=20).tolist()\n",
        "a = np.array(a)\n",
        "b = np.array(b)\n",
        "print(a)\n",
        "print(b)"
      ],
      "metadata": {
        "colab": {
          "base_uri": "https://localhost:8080/"
        },
        "id": "3jtQnAtRWKx6",
        "outputId": "51994ec1-be08-456a-8efe-3f7c8b0f7890"
      },
      "execution_count": 48,
      "outputs": [
        {
          "output_type": "stream",
          "name": "stdout",
          "text": [
            "[ 77  85  59  45  86  44   9  96  27 100  92   3  72  49  88  97  28  67\n",
            "  54  91]\n",
            "[30 41 47 62  6 87 32 33 95 57 89  8 62 37 53 84 16 62 15 29]\n"
          ]
        }
      ]
    },
    {
      "cell_type": "code",
      "source": [
        "#2\n",
        "a = a.reshape(5, 4)\n",
        "b = b.reshape(5, 4)\n",
        "print(a)\n",
        "print(b)"
      ],
      "metadata": {
        "colab": {
          "base_uri": "https://localhost:8080/"
        },
        "id": "m0_AxruAHBtF",
        "outputId": "70bd6cd0-de3d-4a66-d97b-c10af6bfeb3b"
      },
      "execution_count": 49,
      "outputs": [
        {
          "output_type": "stream",
          "name": "stdout",
          "text": [
            "[[ 77  85  59  45]\n",
            " [ 86  44   9  96]\n",
            " [ 27 100  92   3]\n",
            " [ 72  49  88  97]\n",
            " [ 28  67  54  91]]\n",
            "[[30 41 47 62]\n",
            " [ 6 87 32 33]\n",
            " [95 57 89  8]\n",
            " [62 37 53 84]\n",
            " [16 62 15 29]]\n"
          ]
        }
      ]
    },
    {
      "cell_type": "code",
      "source": [
        "##########3\n",
        "result=a*b\n",
        "print(result)\n",
        "#\n",
        "scalar = 5\n",
        "result_a = scalar * a\n",
        "result_b = scalar * b\n",
        "print(\"Scalar multiplication of a:\")\n",
        "print(result_a)\n",
        "print(\"Scalar multiplication of b:\")\n",
        "result_b"
      ],
      "metadata": {
        "colab": {
          "base_uri": "https://localhost:8080/"
        },
        "id": "5VYwaN1glBZJ",
        "outputId": "14978ca2-0959-475a-e52f-b61a1c2b4d9b"
      },
      "execution_count": 50,
      "outputs": [
        {
          "output_type": "stream",
          "name": "stdout",
          "text": [
            "[[2310 3485 2773 2790]\n",
            " [ 516 3828  288 3168]\n",
            " [2565 5700 8188   24]\n",
            " [4464 1813 4664 8148]\n",
            " [ 448 4154  810 2639]]\n",
            "Scalar multiplication of a:\n",
            "[[385 425 295 225]\n",
            " [430 220  45 480]\n",
            " [135 500 460  15]\n",
            " [360 245 440 485]\n",
            " [140 335 270 455]]\n",
            "Scalar multiplication of b:\n"
          ]
        },
        {
          "output_type": "execute_result",
          "data": {
            "text/plain": [
              "array([[150, 205, 235, 310],\n",
              "       [ 30, 435, 160, 165],\n",
              "       [475, 285, 445,  40],\n",
              "       [310, 185, 265, 420],\n",
              "       [ 80, 310,  75, 145]])"
            ]
          },
          "metadata": {},
          "execution_count": 50
        }
      ]
    },
    {
      "cell_type": "code",
      "source": [
        "#4\n",
        "#a\n",
        "b = b.reshape(4, 5)\n",
        "c = np.dot(a, b)\n",
        "print(\"a) Matrix Multiplication (c = a * b):\")\n",
        "print(c)\n",
        "\n",
        "#b\n",
        "c = a@b\n",
        "print(\"b)Matrix Multiplication (c = a * b):\")\n",
        "print(c)\n"
      ],
      "metadata": {
        "colab": {
          "base_uri": "https://localhost:8080/"
        },
        "id": "2eFz72rsX8Ts",
        "outputId": "938047e5-edac-4134-8470-4509e8c63cef"
      },
      "execution_count": 51,
      "outputs": [
        {
          "output_type": "stream",
          "name": "stdout",
          "text": [
            "a) Matrix Multiplication (c = a * b):\n",
            "[[18736  7069 12872 15707  9739]\n",
            " [15273  6542 12004 11285  6285]\n",
            " [17950  5091 10459 14623 10825]\n",
            " [22403  6776 16471 13830 10702]\n",
            " [19119  5180 12517 11464  9488]]\n",
            "b)Matrix Multiplication (c = a * b):\n",
            "[[18736  7069 12872 15707  9739]\n",
            " [15273  6542 12004 11285  6285]\n",
            " [17950  5091 10459 14623 10825]\n",
            " [22403  6776 16471 13830 10702]\n",
            " [19119  5180 12517 11464  9488]]\n"
          ]
        }
      ]
    },
    {
      "cell_type": "code",
      "source": [
        "#5\n",
        "print(\"Column 2 and 3 of matrix c:\")\n",
        "print(c[:, 1:3])\n",
        "\n",
        "print(\"\\nWhole matrix c using slicing:\")\n",
        "print(c[:, :])"
      ],
      "metadata": {
        "colab": {
          "base_uri": "https://localhost:8080/"
        },
        "id": "p2wBlqZXZZFB",
        "outputId": "b73cd236-9bb0-43a1-d97b-5ad6e3b7f6c1"
      },
      "execution_count": 52,
      "outputs": [
        {
          "output_type": "stream",
          "name": "stdout",
          "text": [
            "Column 2 and 3 of matrix c:\n",
            "[[ 7069 12872]\n",
            " [ 6542 12004]\n",
            " [ 5091 10459]\n",
            " [ 6776 16471]\n",
            " [ 5180 12517]]\n",
            "\n",
            "Whole matrix c using slicing:\n",
            "[[18736  7069 12872 15707  9739]\n",
            " [15273  6542 12004 11285  6285]\n",
            " [17950  5091 10459 14623 10825]\n",
            " [22403  6776 16471 13830 10702]\n",
            " [19119  5180 12517 11464  9488]]\n"
          ]
        }
      ]
    },
    {
      "cell_type": "code",
      "source": [
        "#6\n",
        "def find_largest_element_and_index(matrix):\n",
        "  flat_index = np.argmax(matrix)\n",
        "  row, col = np.unravel_index(flat_index, matrix.shape)\n",
        "  largest_element = matrix[row, col]\n",
        "  return largest_element, (row, col)\n",
        "\n",
        "largest_element, (row, col) = find_largest_element_and_index(c)\n",
        "\n",
        "print(f\"The largest element in matrix c is: {largest_element}\")\n",
        "print(f\"Its index is: ({row}, {col})\")"
      ],
      "metadata": {
        "colab": {
          "base_uri": "https://localhost:8080/"
        },
        "id": "PBha2mQwZq3h",
        "outputId": "91174824-cdfb-45f1-cac9-313a31d6cc80"
      },
      "execution_count": 53,
      "outputs": [
        {
          "output_type": "stream",
          "name": "stdout",
          "text": [
            "The largest element in matrix c is: 22403\n",
            "Its index is: (3, 0)\n"
          ]
        }
      ]
    },
    {
      "cell_type": "code",
      "source": [
        "#7\n",
        "c_1d = c.flatten()\n",
        "print(\"One-dimensional array from c:\")\n",
        "print(c_1d)\n",
        "\n",
        "print(\"\\nOriginal matrix c:\")\n",
        "c"
      ],
      "metadata": {
        "colab": {
          "base_uri": "https://localhost:8080/"
        },
        "id": "-VFxOk3oZzTP",
        "outputId": "8ce87c40-859a-4eef-c040-f75b23067279"
      },
      "execution_count": 54,
      "outputs": [
        {
          "output_type": "stream",
          "name": "stdout",
          "text": [
            "One-dimensional array from c:\n",
            "[18736  7069 12872 15707  9739 15273  6542 12004 11285  6285 17950  5091\n",
            " 10459 14623 10825 22403  6776 16471 13830 10702 19119  5180 12517 11464\n",
            "  9488]\n",
            "\n",
            "Original matrix c:\n"
          ]
        },
        {
          "output_type": "execute_result",
          "data": {
            "text/plain": [
              "array([[18736,  7069, 12872, 15707,  9739],\n",
              "       [15273,  6542, 12004, 11285,  6285],\n",
              "       [17950,  5091, 10459, 14623, 10825],\n",
              "       [22403,  6776, 16471, 13830, 10702],\n",
              "       [19119,  5180, 12517, 11464,  9488]])"
            ]
          },
          "metadata": {},
          "execution_count": 54
        }
      ]
    },
    {
      "cell_type": "code",
      "source": [
        "import pandas as pd\n"
      ],
      "metadata": {
        "id": "tzSjsz7YZ38x"
      },
      "execution_count": 23,
      "outputs": []
    },
    {
      "cell_type": "code",
      "source": [
        "#1\n",
        "loc='/content/subject_scores.csv'\n",
        "df=pd.read_csv(loc)\n",
        "print(df)"
      ],
      "metadata": {
        "colab": {
          "base_uri": "https://localhost:8080/"
        },
        "id": "hKgOo8FObSWv",
        "outputId": "5073459e-9893-4eb9-acb5-47b9fcf4c03c"
      },
      "execution_count": 25,
      "outputs": [
        {
          "output_type": "stream",
          "name": "stdout",
          "text": [
            "    Student_ID  Physics  Chemistry  Math  Bilogy\n",
            "0            1     63.0         37  85.0    94.0\n",
            "1            2     52.0         63  34.0    24.0\n",
            "2            3     51.0         25   2.0     7.0\n",
            "3            4     44.0          2   5.0    22.0\n",
            "4            5     50.0         13   1.0    12.0\n",
            "5            6      NaN         38  26.0     2.0\n",
            "6            7     65.0         42  45.0     4.0\n",
            "7            8     63.0         72   NaN    46.0\n",
            "8            9     18.0         23  38.0    44.0\n",
            "9           10      9.0          8  10.0    59.0\n",
            "10          11     19.0         98   4.0     4.0\n",
            "11          12     92.0         36  33.0     NaN\n",
            "12          13      NaN         27  74.0    34.0\n",
            "13          14     26.0         18  33.0    94.0\n",
            "14          15     17.0         30  73.0    28.0\n",
            "15          16     70.0         53  94.0    45.0\n",
            "16          17     72.0         25   NaN    93.0\n",
            "17          18     46.0         45  36.0     6.0\n",
            "18          19     76.0         81  75.0    11.0\n",
            "19          20     23.0         73  87.0    33.0\n"
          ]
        }
      ]
    },
    {
      "cell_type": "code",
      "source": [
        "# 2) Show the first few rows of the DataFrame\n",
        "print(df.head())"
      ],
      "metadata": {
        "colab": {
          "base_uri": "https://localhost:8080/"
        },
        "id": "Yg12Sc0LbeWv",
        "outputId": "24030af1-69ae-42a7-de66-32bb7cde5b0f"
      },
      "execution_count": 26,
      "outputs": [
        {
          "output_type": "stream",
          "name": "stdout",
          "text": [
            "   Student_ID  Physics  Chemistry  Math  Bilogy\n",
            "0           1     63.0         37  85.0    94.0\n",
            "1           2     52.0         63  34.0    24.0\n",
            "2           3     51.0         25   2.0     7.0\n",
            "3           4     44.0          2   5.0    22.0\n",
            "4           5     50.0         13   1.0    12.0\n"
          ]
        }
      ]
    },
    {
      "cell_type": "code",
      "source": [
        "#3\n",
        "df.info()\n",
        "df.describe()"
      ],
      "metadata": {
        "colab": {
          "base_uri": "https://localhost:8080/",
          "height": 515
        },
        "id": "CFk2EKDLblPH",
        "outputId": "3ffe37d8-9819-4f1d-bf61-a2aae8f74ec4"
      },
      "execution_count": 29,
      "outputs": [
        {
          "output_type": "stream",
          "name": "stdout",
          "text": [
            "<class 'pandas.core.frame.DataFrame'>\n",
            "RangeIndex: 20 entries, 0 to 19\n",
            "Data columns (total 5 columns):\n",
            " #   Column      Non-Null Count  Dtype  \n",
            "---  ------      --------------  -----  \n",
            " 0   Student_ID  20 non-null     int64  \n",
            " 1   Physics     18 non-null     float64\n",
            " 2   Chemistry   20 non-null     int64  \n",
            " 3   Math        18 non-null     float64\n",
            " 4   Bilogy      19 non-null     float64\n",
            "dtypes: float64(3), int64(2)\n",
            "memory usage: 928.0 bytes\n"
          ]
        },
        {
          "output_type": "execute_result",
          "data": {
            "text/plain": [
              "       Student_ID    Physics  Chemistry       Math     Bilogy\n",
              "count    20.00000  18.000000  20.000000  18.000000  19.000000\n",
              "mean     10.50000  47.555556  40.450000  41.944444  34.842105\n",
              "std       5.91608  24.127656  25.750779  31.912513  30.991510\n",
              "min       1.00000   9.000000   2.000000   1.000000   2.000000\n",
              "25%       5.75000  23.750000  24.500000  14.000000   9.000000\n",
              "50%      10.50000  50.500000  36.500000  35.000000  28.000000\n",
              "75%      15.25000  64.500000  55.500000  73.750000  45.500000\n",
              "max      20.00000  92.000000  98.000000  94.000000  94.000000"
            ],
            "text/html": [
              "\n",
              "  <div id=\"df-0c452707-294a-48c1-941e-f17d7d28e6c7\" class=\"colab-df-container\">\n",
              "    <div>\n",
              "<style scoped>\n",
              "    .dataframe tbody tr th:only-of-type {\n",
              "        vertical-align: middle;\n",
              "    }\n",
              "\n",
              "    .dataframe tbody tr th {\n",
              "        vertical-align: top;\n",
              "    }\n",
              "\n",
              "    .dataframe thead th {\n",
              "        text-align: right;\n",
              "    }\n",
              "</style>\n",
              "<table border=\"1\" class=\"dataframe\">\n",
              "  <thead>\n",
              "    <tr style=\"text-align: right;\">\n",
              "      <th></th>\n",
              "      <th>Student_ID</th>\n",
              "      <th>Physics</th>\n",
              "      <th>Chemistry</th>\n",
              "      <th>Math</th>\n",
              "      <th>Bilogy</th>\n",
              "    </tr>\n",
              "  </thead>\n",
              "  <tbody>\n",
              "    <tr>\n",
              "      <th>count</th>\n",
              "      <td>20.00000</td>\n",
              "      <td>18.000000</td>\n",
              "      <td>20.000000</td>\n",
              "      <td>18.000000</td>\n",
              "      <td>19.000000</td>\n",
              "    </tr>\n",
              "    <tr>\n",
              "      <th>mean</th>\n",
              "      <td>10.50000</td>\n",
              "      <td>47.555556</td>\n",
              "      <td>40.450000</td>\n",
              "      <td>41.944444</td>\n",
              "      <td>34.842105</td>\n",
              "    </tr>\n",
              "    <tr>\n",
              "      <th>std</th>\n",
              "      <td>5.91608</td>\n",
              "      <td>24.127656</td>\n",
              "      <td>25.750779</td>\n",
              "      <td>31.912513</td>\n",
              "      <td>30.991510</td>\n",
              "    </tr>\n",
              "    <tr>\n",
              "      <th>min</th>\n",
              "      <td>1.00000</td>\n",
              "      <td>9.000000</td>\n",
              "      <td>2.000000</td>\n",
              "      <td>1.000000</td>\n",
              "      <td>2.000000</td>\n",
              "    </tr>\n",
              "    <tr>\n",
              "      <th>25%</th>\n",
              "      <td>5.75000</td>\n",
              "      <td>23.750000</td>\n",
              "      <td>24.500000</td>\n",
              "      <td>14.000000</td>\n",
              "      <td>9.000000</td>\n",
              "    </tr>\n",
              "    <tr>\n",
              "      <th>50%</th>\n",
              "      <td>10.50000</td>\n",
              "      <td>50.500000</td>\n",
              "      <td>36.500000</td>\n",
              "      <td>35.000000</td>\n",
              "      <td>28.000000</td>\n",
              "    </tr>\n",
              "    <tr>\n",
              "      <th>75%</th>\n",
              "      <td>15.25000</td>\n",
              "      <td>64.500000</td>\n",
              "      <td>55.500000</td>\n",
              "      <td>73.750000</td>\n",
              "      <td>45.500000</td>\n",
              "    </tr>\n",
              "    <tr>\n",
              "      <th>max</th>\n",
              "      <td>20.00000</td>\n",
              "      <td>92.000000</td>\n",
              "      <td>98.000000</td>\n",
              "      <td>94.000000</td>\n",
              "      <td>94.000000</td>\n",
              "    </tr>\n",
              "  </tbody>\n",
              "</table>\n",
              "</div>\n",
              "    <div class=\"colab-df-buttons\">\n",
              "\n",
              "  <div class=\"colab-df-container\">\n",
              "    <button class=\"colab-df-convert\" onclick=\"convertToInteractive('df-0c452707-294a-48c1-941e-f17d7d28e6c7')\"\n",
              "            title=\"Convert this dataframe to an interactive table.\"\n",
              "            style=\"display:none;\">\n",
              "\n",
              "  <svg xmlns=\"http://www.w3.org/2000/svg\" height=\"24px\" viewBox=\"0 -960 960 960\">\n",
              "    <path d=\"M120-120v-720h720v720H120Zm60-500h600v-160H180v160Zm220 220h160v-160H400v160Zm0 220h160v-160H400v160ZM180-400h160v-160H180v160Zm440 0h160v-160H620v160ZM180-180h160v-160H180v160Zm440 0h160v-160H620v160Z\"/>\n",
              "  </svg>\n",
              "    </button>\n",
              "\n",
              "  <style>\n",
              "    .colab-df-container {\n",
              "      display:flex;\n",
              "      gap: 12px;\n",
              "    }\n",
              "\n",
              "    .colab-df-convert {\n",
              "      background-color: #E8F0FE;\n",
              "      border: none;\n",
              "      border-radius: 50%;\n",
              "      cursor: pointer;\n",
              "      display: none;\n",
              "      fill: #1967D2;\n",
              "      height: 32px;\n",
              "      padding: 0 0 0 0;\n",
              "      width: 32px;\n",
              "    }\n",
              "\n",
              "    .colab-df-convert:hover {\n",
              "      background-color: #E2EBFA;\n",
              "      box-shadow: 0px 1px 2px rgba(60, 64, 67, 0.3), 0px 1px 3px 1px rgba(60, 64, 67, 0.15);\n",
              "      fill: #174EA6;\n",
              "    }\n",
              "\n",
              "    .colab-df-buttons div {\n",
              "      margin-bottom: 4px;\n",
              "    }\n",
              "\n",
              "    [theme=dark] .colab-df-convert {\n",
              "      background-color: #3B4455;\n",
              "      fill: #D2E3FC;\n",
              "    }\n",
              "\n",
              "    [theme=dark] .colab-df-convert:hover {\n",
              "      background-color: #434B5C;\n",
              "      box-shadow: 0px 1px 3px 1px rgba(0, 0, 0, 0.15);\n",
              "      filter: drop-shadow(0px 1px 2px rgba(0, 0, 0, 0.3));\n",
              "      fill: #FFFFFF;\n",
              "    }\n",
              "  </style>\n",
              "\n",
              "    <script>\n",
              "      const buttonEl =\n",
              "        document.querySelector('#df-0c452707-294a-48c1-941e-f17d7d28e6c7 button.colab-df-convert');\n",
              "      buttonEl.style.display =\n",
              "        google.colab.kernel.accessAllowed ? 'block' : 'none';\n",
              "\n",
              "      async function convertToInteractive(key) {\n",
              "        const element = document.querySelector('#df-0c452707-294a-48c1-941e-f17d7d28e6c7');\n",
              "        const dataTable =\n",
              "          await google.colab.kernel.invokeFunction('convertToInteractive',\n",
              "                                                    [key], {});\n",
              "        if (!dataTable) return;\n",
              "\n",
              "        const docLinkHtml = 'Like what you see? Visit the ' +\n",
              "          '<a target=\"_blank\" href=https://colab.research.google.com/notebooks/data_table.ipynb>data table notebook</a>'\n",
              "          + ' to learn more about interactive tables.';\n",
              "        element.innerHTML = '';\n",
              "        dataTable['output_type'] = 'display_data';\n",
              "        await google.colab.output.renderOutput(dataTable, element);\n",
              "        const docLink = document.createElement('div');\n",
              "        docLink.innerHTML = docLinkHtml;\n",
              "        element.appendChild(docLink);\n",
              "      }\n",
              "    </script>\n",
              "  </div>\n",
              "\n",
              "\n",
              "<div id=\"df-fcda8dbe-3bad-408b-ad4f-3ca5c0633a0f\">\n",
              "  <button class=\"colab-df-quickchart\" onclick=\"quickchart('df-fcda8dbe-3bad-408b-ad4f-3ca5c0633a0f')\"\n",
              "            title=\"Suggest charts\"\n",
              "            style=\"display:none;\">\n",
              "\n",
              "<svg xmlns=\"http://www.w3.org/2000/svg\" height=\"24px\"viewBox=\"0 0 24 24\"\n",
              "     width=\"24px\">\n",
              "    <g>\n",
              "        <path d=\"M19 3H5c-1.1 0-2 .9-2 2v14c0 1.1.9 2 2 2h14c1.1 0 2-.9 2-2V5c0-1.1-.9-2-2-2zM9 17H7v-7h2v7zm4 0h-2V7h2v10zm4 0h-2v-4h2v4z\"/>\n",
              "    </g>\n",
              "</svg>\n",
              "  </button>\n",
              "\n",
              "<style>\n",
              "  .colab-df-quickchart {\n",
              "      --bg-color: #E8F0FE;\n",
              "      --fill-color: #1967D2;\n",
              "      --hover-bg-color: #E2EBFA;\n",
              "      --hover-fill-color: #174EA6;\n",
              "      --disabled-fill-color: #AAA;\n",
              "      --disabled-bg-color: #DDD;\n",
              "  }\n",
              "\n",
              "  [theme=dark] .colab-df-quickchart {\n",
              "      --bg-color: #3B4455;\n",
              "      --fill-color: #D2E3FC;\n",
              "      --hover-bg-color: #434B5C;\n",
              "      --hover-fill-color: #FFFFFF;\n",
              "      --disabled-bg-color: #3B4455;\n",
              "      --disabled-fill-color: #666;\n",
              "  }\n",
              "\n",
              "  .colab-df-quickchart {\n",
              "    background-color: var(--bg-color);\n",
              "    border: none;\n",
              "    border-radius: 50%;\n",
              "    cursor: pointer;\n",
              "    display: none;\n",
              "    fill: var(--fill-color);\n",
              "    height: 32px;\n",
              "    padding: 0;\n",
              "    width: 32px;\n",
              "  }\n",
              "\n",
              "  .colab-df-quickchart:hover {\n",
              "    background-color: var(--hover-bg-color);\n",
              "    box-shadow: 0 1px 2px rgba(60, 64, 67, 0.3), 0 1px 3px 1px rgba(60, 64, 67, 0.15);\n",
              "    fill: var(--button-hover-fill-color);\n",
              "  }\n",
              "\n",
              "  .colab-df-quickchart-complete:disabled,\n",
              "  .colab-df-quickchart-complete:disabled:hover {\n",
              "    background-color: var(--disabled-bg-color);\n",
              "    fill: var(--disabled-fill-color);\n",
              "    box-shadow: none;\n",
              "  }\n",
              "\n",
              "  .colab-df-spinner {\n",
              "    border: 2px solid var(--fill-color);\n",
              "    border-color: transparent;\n",
              "    border-bottom-color: var(--fill-color);\n",
              "    animation:\n",
              "      spin 1s steps(1) infinite;\n",
              "  }\n",
              "\n",
              "  @keyframes spin {\n",
              "    0% {\n",
              "      border-color: transparent;\n",
              "      border-bottom-color: var(--fill-color);\n",
              "      border-left-color: var(--fill-color);\n",
              "    }\n",
              "    20% {\n",
              "      border-color: transparent;\n",
              "      border-left-color: var(--fill-color);\n",
              "      border-top-color: var(--fill-color);\n",
              "    }\n",
              "    30% {\n",
              "      border-color: transparent;\n",
              "      border-left-color: var(--fill-color);\n",
              "      border-top-color: var(--fill-color);\n",
              "      border-right-color: var(--fill-color);\n",
              "    }\n",
              "    40% {\n",
              "      border-color: transparent;\n",
              "      border-right-color: var(--fill-color);\n",
              "      border-top-color: var(--fill-color);\n",
              "    }\n",
              "    60% {\n",
              "      border-color: transparent;\n",
              "      border-right-color: var(--fill-color);\n",
              "    }\n",
              "    80% {\n",
              "      border-color: transparent;\n",
              "      border-right-color: var(--fill-color);\n",
              "      border-bottom-color: var(--fill-color);\n",
              "    }\n",
              "    90% {\n",
              "      border-color: transparent;\n",
              "      border-bottom-color: var(--fill-color);\n",
              "    }\n",
              "  }\n",
              "</style>\n",
              "\n",
              "  <script>\n",
              "    async function quickchart(key) {\n",
              "      const quickchartButtonEl =\n",
              "        document.querySelector('#' + key + ' button');\n",
              "      quickchartButtonEl.disabled = true;  // To prevent multiple clicks.\n",
              "      quickchartButtonEl.classList.add('colab-df-spinner');\n",
              "      try {\n",
              "        const charts = await google.colab.kernel.invokeFunction(\n",
              "            'suggestCharts', [key], {});\n",
              "      } catch (error) {\n",
              "        console.error('Error during call to suggestCharts:', error);\n",
              "      }\n",
              "      quickchartButtonEl.classList.remove('colab-df-spinner');\n",
              "      quickchartButtonEl.classList.add('colab-df-quickchart-complete');\n",
              "    }\n",
              "    (() => {\n",
              "      let quickchartButtonEl =\n",
              "        document.querySelector('#df-fcda8dbe-3bad-408b-ad4f-3ca5c0633a0f button');\n",
              "      quickchartButtonEl.style.display =\n",
              "        google.colab.kernel.accessAllowed ? 'block' : 'none';\n",
              "    })();\n",
              "  </script>\n",
              "</div>\n",
              "\n",
              "    </div>\n",
              "  </div>\n"
            ],
            "application/vnd.google.colaboratory.intrinsic+json": {
              "type": "dataframe",
              "summary": "{\n  \"name\": \"df\",\n  \"rows\": 8,\n  \"fields\": [\n    {\n      \"column\": \"Student_ID\",\n      \"properties\": {\n        \"dtype\": \"number\",\n        \"std\": 6.906170579382335,\n        \"min\": 1.0,\n        \"max\": 20.0,\n        \"num_unique_values\": 6,\n        \"samples\": [\n          20.0,\n          10.5,\n          15.25\n        ],\n        \"semantic_type\": \"\",\n        \"description\": \"\"\n      }\n    },\n    {\n      \"column\": \"Physics\",\n      \"properties\": {\n        \"dtype\": \"number\",\n        \"std\": 27.829729822551634,\n        \"min\": 9.0,\n        \"max\": 92.0,\n        \"num_unique_values\": 8,\n        \"samples\": [\n          47.55555555555556,\n          50.5,\n          18.0\n        ],\n        \"semantic_type\": \"\",\n        \"description\": \"\"\n      }\n    },\n    {\n      \"column\": \"Chemistry\",\n      \"properties\": {\n        \"dtype\": \"number\",\n        \"std\": 28.94967286356462,\n        \"min\": 2.0,\n        \"max\": 98.0,\n        \"num_unique_values\": 8,\n        \"samples\": [\n          40.45,\n          36.5,\n          20.0\n        ],\n        \"semantic_type\": \"\",\n        \"description\": \"\"\n      }\n    },\n    {\n      \"column\": \"Math\",\n      \"properties\": {\n        \"dtype\": \"number\",\n        \"std\": 31.206109500703604,\n        \"min\": 1.0,\n        \"max\": 94.0,\n        \"num_unique_values\": 8,\n        \"samples\": [\n          41.94444444444444,\n          35.0,\n          18.0\n        ],\n        \"semantic_type\": \"\",\n        \"description\": \"\"\n      }\n    },\n    {\n      \"column\": \"Bilogy\",\n      \"properties\": {\n        \"dtype\": \"number\",\n        \"std\": 28.391703707225876,\n        \"min\": 2.0,\n        \"max\": 94.0,\n        \"num_unique_values\": 8,\n        \"samples\": [\n          34.8421052631579,\n          28.0,\n          19.0\n        ],\n        \"semantic_type\": \"\",\n        \"description\": \"\"\n      }\n    }\n  ]\n}"
            }
          },
          "metadata": {},
          "execution_count": 29
        }
      ]
    },
    {
      "cell_type": "code",
      "source": [
        "#4\n",
        "print(df.isnull().sum())"
      ],
      "metadata": {
        "colab": {
          "base_uri": "https://localhost:8080/"
        },
        "id": "GmXUZ7JLbyOF",
        "outputId": "c1699aa9-6070-4720-adc9-51a9887d8f1c"
      },
      "execution_count": 28,
      "outputs": [
        {
          "output_type": "stream",
          "name": "stdout",
          "text": [
            "Student_ID    0\n",
            "Physics       2\n",
            "Chemistry     0\n",
            "Math          2\n",
            "Bilogy        1\n",
            "dtype: int64\n"
          ]
        }
      ]
    },
    {
      "cell_type": "code",
      "source": [
        "#5\n",
        "df.fillna(df.mean(), inplace=True)\n",
        "df"
      ],
      "metadata": {
        "colab": {
          "base_uri": "https://localhost:8080/",
          "height": 677
        },
        "id": "1jXe8bWBb5xd",
        "outputId": "d2c45c76-6a3b-4969-b1f5-7bd2cd405f87"
      },
      "execution_count": 32,
      "outputs": [
        {
          "output_type": "execute_result",
          "data": {
            "text/plain": [
              "    Student_ID    Physics  Chemistry       Math     Bilogy\n",
              "0            1  63.000000         37  85.000000  94.000000\n",
              "1            2  52.000000         63  34.000000  24.000000\n",
              "2            3  51.000000         25   2.000000   7.000000\n",
              "3            4  44.000000          2   5.000000  22.000000\n",
              "4            5  50.000000         13   1.000000  12.000000\n",
              "5            6  47.555556         38  26.000000   2.000000\n",
              "6            7  65.000000         42  45.000000   4.000000\n",
              "7            8  63.000000         72  41.944444  46.000000\n",
              "8            9  18.000000         23  38.000000  44.000000\n",
              "9           10   9.000000          8  10.000000  59.000000\n",
              "10          11  19.000000         98   4.000000   4.000000\n",
              "11          12  92.000000         36  33.000000  34.842105\n",
              "12          13  47.555556         27  74.000000  34.000000\n",
              "13          14  26.000000         18  33.000000  94.000000\n",
              "14          15  17.000000         30  73.000000  28.000000\n",
              "15          16  70.000000         53  94.000000  45.000000\n",
              "16          17  72.000000         25  41.944444  93.000000\n",
              "17          18  46.000000         45  36.000000   6.000000\n",
              "18          19  76.000000         81  75.000000  11.000000\n",
              "19          20  23.000000         73  87.000000  33.000000"
            ],
            "text/html": [
              "\n",
              "  <div id=\"df-b6c7e82a-6140-4a80-9ab4-d7e962353554\" class=\"colab-df-container\">\n",
              "    <div>\n",
              "<style scoped>\n",
              "    .dataframe tbody tr th:only-of-type {\n",
              "        vertical-align: middle;\n",
              "    }\n",
              "\n",
              "    .dataframe tbody tr th {\n",
              "        vertical-align: top;\n",
              "    }\n",
              "\n",
              "    .dataframe thead th {\n",
              "        text-align: right;\n",
              "    }\n",
              "</style>\n",
              "<table border=\"1\" class=\"dataframe\">\n",
              "  <thead>\n",
              "    <tr style=\"text-align: right;\">\n",
              "      <th></th>\n",
              "      <th>Student_ID</th>\n",
              "      <th>Physics</th>\n",
              "      <th>Chemistry</th>\n",
              "      <th>Math</th>\n",
              "      <th>Bilogy</th>\n",
              "    </tr>\n",
              "  </thead>\n",
              "  <tbody>\n",
              "    <tr>\n",
              "      <th>0</th>\n",
              "      <td>1</td>\n",
              "      <td>63.000000</td>\n",
              "      <td>37</td>\n",
              "      <td>85.000000</td>\n",
              "      <td>94.000000</td>\n",
              "    </tr>\n",
              "    <tr>\n",
              "      <th>1</th>\n",
              "      <td>2</td>\n",
              "      <td>52.000000</td>\n",
              "      <td>63</td>\n",
              "      <td>34.000000</td>\n",
              "      <td>24.000000</td>\n",
              "    </tr>\n",
              "    <tr>\n",
              "      <th>2</th>\n",
              "      <td>3</td>\n",
              "      <td>51.000000</td>\n",
              "      <td>25</td>\n",
              "      <td>2.000000</td>\n",
              "      <td>7.000000</td>\n",
              "    </tr>\n",
              "    <tr>\n",
              "      <th>3</th>\n",
              "      <td>4</td>\n",
              "      <td>44.000000</td>\n",
              "      <td>2</td>\n",
              "      <td>5.000000</td>\n",
              "      <td>22.000000</td>\n",
              "    </tr>\n",
              "    <tr>\n",
              "      <th>4</th>\n",
              "      <td>5</td>\n",
              "      <td>50.000000</td>\n",
              "      <td>13</td>\n",
              "      <td>1.000000</td>\n",
              "      <td>12.000000</td>\n",
              "    </tr>\n",
              "    <tr>\n",
              "      <th>5</th>\n",
              "      <td>6</td>\n",
              "      <td>47.555556</td>\n",
              "      <td>38</td>\n",
              "      <td>26.000000</td>\n",
              "      <td>2.000000</td>\n",
              "    </tr>\n",
              "    <tr>\n",
              "      <th>6</th>\n",
              "      <td>7</td>\n",
              "      <td>65.000000</td>\n",
              "      <td>42</td>\n",
              "      <td>45.000000</td>\n",
              "      <td>4.000000</td>\n",
              "    </tr>\n",
              "    <tr>\n",
              "      <th>7</th>\n",
              "      <td>8</td>\n",
              "      <td>63.000000</td>\n",
              "      <td>72</td>\n",
              "      <td>41.944444</td>\n",
              "      <td>46.000000</td>\n",
              "    </tr>\n",
              "    <tr>\n",
              "      <th>8</th>\n",
              "      <td>9</td>\n",
              "      <td>18.000000</td>\n",
              "      <td>23</td>\n",
              "      <td>38.000000</td>\n",
              "      <td>44.000000</td>\n",
              "    </tr>\n",
              "    <tr>\n",
              "      <th>9</th>\n",
              "      <td>10</td>\n",
              "      <td>9.000000</td>\n",
              "      <td>8</td>\n",
              "      <td>10.000000</td>\n",
              "      <td>59.000000</td>\n",
              "    </tr>\n",
              "    <tr>\n",
              "      <th>10</th>\n",
              "      <td>11</td>\n",
              "      <td>19.000000</td>\n",
              "      <td>98</td>\n",
              "      <td>4.000000</td>\n",
              "      <td>4.000000</td>\n",
              "    </tr>\n",
              "    <tr>\n",
              "      <th>11</th>\n",
              "      <td>12</td>\n",
              "      <td>92.000000</td>\n",
              "      <td>36</td>\n",
              "      <td>33.000000</td>\n",
              "      <td>34.842105</td>\n",
              "    </tr>\n",
              "    <tr>\n",
              "      <th>12</th>\n",
              "      <td>13</td>\n",
              "      <td>47.555556</td>\n",
              "      <td>27</td>\n",
              "      <td>74.000000</td>\n",
              "      <td>34.000000</td>\n",
              "    </tr>\n",
              "    <tr>\n",
              "      <th>13</th>\n",
              "      <td>14</td>\n",
              "      <td>26.000000</td>\n",
              "      <td>18</td>\n",
              "      <td>33.000000</td>\n",
              "      <td>94.000000</td>\n",
              "    </tr>\n",
              "    <tr>\n",
              "      <th>14</th>\n",
              "      <td>15</td>\n",
              "      <td>17.000000</td>\n",
              "      <td>30</td>\n",
              "      <td>73.000000</td>\n",
              "      <td>28.000000</td>\n",
              "    </tr>\n",
              "    <tr>\n",
              "      <th>15</th>\n",
              "      <td>16</td>\n",
              "      <td>70.000000</td>\n",
              "      <td>53</td>\n",
              "      <td>94.000000</td>\n",
              "      <td>45.000000</td>\n",
              "    </tr>\n",
              "    <tr>\n",
              "      <th>16</th>\n",
              "      <td>17</td>\n",
              "      <td>72.000000</td>\n",
              "      <td>25</td>\n",
              "      <td>41.944444</td>\n",
              "      <td>93.000000</td>\n",
              "    </tr>\n",
              "    <tr>\n",
              "      <th>17</th>\n",
              "      <td>18</td>\n",
              "      <td>46.000000</td>\n",
              "      <td>45</td>\n",
              "      <td>36.000000</td>\n",
              "      <td>6.000000</td>\n",
              "    </tr>\n",
              "    <tr>\n",
              "      <th>18</th>\n",
              "      <td>19</td>\n",
              "      <td>76.000000</td>\n",
              "      <td>81</td>\n",
              "      <td>75.000000</td>\n",
              "      <td>11.000000</td>\n",
              "    </tr>\n",
              "    <tr>\n",
              "      <th>19</th>\n",
              "      <td>20</td>\n",
              "      <td>23.000000</td>\n",
              "      <td>73</td>\n",
              "      <td>87.000000</td>\n",
              "      <td>33.000000</td>\n",
              "    </tr>\n",
              "  </tbody>\n",
              "</table>\n",
              "</div>\n",
              "    <div class=\"colab-df-buttons\">\n",
              "\n",
              "  <div class=\"colab-df-container\">\n",
              "    <button class=\"colab-df-convert\" onclick=\"convertToInteractive('df-b6c7e82a-6140-4a80-9ab4-d7e962353554')\"\n",
              "            title=\"Convert this dataframe to an interactive table.\"\n",
              "            style=\"display:none;\">\n",
              "\n",
              "  <svg xmlns=\"http://www.w3.org/2000/svg\" height=\"24px\" viewBox=\"0 -960 960 960\">\n",
              "    <path d=\"M120-120v-720h720v720H120Zm60-500h600v-160H180v160Zm220 220h160v-160H400v160Zm0 220h160v-160H400v160ZM180-400h160v-160H180v160Zm440 0h160v-160H620v160ZM180-180h160v-160H180v160Zm440 0h160v-160H620v160Z\"/>\n",
              "  </svg>\n",
              "    </button>\n",
              "\n",
              "  <style>\n",
              "    .colab-df-container {\n",
              "      display:flex;\n",
              "      gap: 12px;\n",
              "    }\n",
              "\n",
              "    .colab-df-convert {\n",
              "      background-color: #E8F0FE;\n",
              "      border: none;\n",
              "      border-radius: 50%;\n",
              "      cursor: pointer;\n",
              "      display: none;\n",
              "      fill: #1967D2;\n",
              "      height: 32px;\n",
              "      padding: 0 0 0 0;\n",
              "      width: 32px;\n",
              "    }\n",
              "\n",
              "    .colab-df-convert:hover {\n",
              "      background-color: #E2EBFA;\n",
              "      box-shadow: 0px 1px 2px rgba(60, 64, 67, 0.3), 0px 1px 3px 1px rgba(60, 64, 67, 0.15);\n",
              "      fill: #174EA6;\n",
              "    }\n",
              "\n",
              "    .colab-df-buttons div {\n",
              "      margin-bottom: 4px;\n",
              "    }\n",
              "\n",
              "    [theme=dark] .colab-df-convert {\n",
              "      background-color: #3B4455;\n",
              "      fill: #D2E3FC;\n",
              "    }\n",
              "\n",
              "    [theme=dark] .colab-df-convert:hover {\n",
              "      background-color: #434B5C;\n",
              "      box-shadow: 0px 1px 3px 1px rgba(0, 0, 0, 0.15);\n",
              "      filter: drop-shadow(0px 1px 2px rgba(0, 0, 0, 0.3));\n",
              "      fill: #FFFFFF;\n",
              "    }\n",
              "  </style>\n",
              "\n",
              "    <script>\n",
              "      const buttonEl =\n",
              "        document.querySelector('#df-b6c7e82a-6140-4a80-9ab4-d7e962353554 button.colab-df-convert');\n",
              "      buttonEl.style.display =\n",
              "        google.colab.kernel.accessAllowed ? 'block' : 'none';\n",
              "\n",
              "      async function convertToInteractive(key) {\n",
              "        const element = document.querySelector('#df-b6c7e82a-6140-4a80-9ab4-d7e962353554');\n",
              "        const dataTable =\n",
              "          await google.colab.kernel.invokeFunction('convertToInteractive',\n",
              "                                                    [key], {});\n",
              "        if (!dataTable) return;\n",
              "\n",
              "        const docLinkHtml = 'Like what you see? Visit the ' +\n",
              "          '<a target=\"_blank\" href=https://colab.research.google.com/notebooks/data_table.ipynb>data table notebook</a>'\n",
              "          + ' to learn more about interactive tables.';\n",
              "        element.innerHTML = '';\n",
              "        dataTable['output_type'] = 'display_data';\n",
              "        await google.colab.output.renderOutput(dataTable, element);\n",
              "        const docLink = document.createElement('div');\n",
              "        docLink.innerHTML = docLinkHtml;\n",
              "        element.appendChild(docLink);\n",
              "      }\n",
              "    </script>\n",
              "  </div>\n",
              "\n",
              "\n",
              "<div id=\"df-8c6f64d2-9f00-46df-8fbd-e9169d568816\">\n",
              "  <button class=\"colab-df-quickchart\" onclick=\"quickchart('df-8c6f64d2-9f00-46df-8fbd-e9169d568816')\"\n",
              "            title=\"Suggest charts\"\n",
              "            style=\"display:none;\">\n",
              "\n",
              "<svg xmlns=\"http://www.w3.org/2000/svg\" height=\"24px\"viewBox=\"0 0 24 24\"\n",
              "     width=\"24px\">\n",
              "    <g>\n",
              "        <path d=\"M19 3H5c-1.1 0-2 .9-2 2v14c0 1.1.9 2 2 2h14c1.1 0 2-.9 2-2V5c0-1.1-.9-2-2-2zM9 17H7v-7h2v7zm4 0h-2V7h2v10zm4 0h-2v-4h2v4z\"/>\n",
              "    </g>\n",
              "</svg>\n",
              "  </button>\n",
              "\n",
              "<style>\n",
              "  .colab-df-quickchart {\n",
              "      --bg-color: #E8F0FE;\n",
              "      --fill-color: #1967D2;\n",
              "      --hover-bg-color: #E2EBFA;\n",
              "      --hover-fill-color: #174EA6;\n",
              "      --disabled-fill-color: #AAA;\n",
              "      --disabled-bg-color: #DDD;\n",
              "  }\n",
              "\n",
              "  [theme=dark] .colab-df-quickchart {\n",
              "      --bg-color: #3B4455;\n",
              "      --fill-color: #D2E3FC;\n",
              "      --hover-bg-color: #434B5C;\n",
              "      --hover-fill-color: #FFFFFF;\n",
              "      --disabled-bg-color: #3B4455;\n",
              "      --disabled-fill-color: #666;\n",
              "  }\n",
              "\n",
              "  .colab-df-quickchart {\n",
              "    background-color: var(--bg-color);\n",
              "    border: none;\n",
              "    border-radius: 50%;\n",
              "    cursor: pointer;\n",
              "    display: none;\n",
              "    fill: var(--fill-color);\n",
              "    height: 32px;\n",
              "    padding: 0;\n",
              "    width: 32px;\n",
              "  }\n",
              "\n",
              "  .colab-df-quickchart:hover {\n",
              "    background-color: var(--hover-bg-color);\n",
              "    box-shadow: 0 1px 2px rgba(60, 64, 67, 0.3), 0 1px 3px 1px rgba(60, 64, 67, 0.15);\n",
              "    fill: var(--button-hover-fill-color);\n",
              "  }\n",
              "\n",
              "  .colab-df-quickchart-complete:disabled,\n",
              "  .colab-df-quickchart-complete:disabled:hover {\n",
              "    background-color: var(--disabled-bg-color);\n",
              "    fill: var(--disabled-fill-color);\n",
              "    box-shadow: none;\n",
              "  }\n",
              "\n",
              "  .colab-df-spinner {\n",
              "    border: 2px solid var(--fill-color);\n",
              "    border-color: transparent;\n",
              "    border-bottom-color: var(--fill-color);\n",
              "    animation:\n",
              "      spin 1s steps(1) infinite;\n",
              "  }\n",
              "\n",
              "  @keyframes spin {\n",
              "    0% {\n",
              "      border-color: transparent;\n",
              "      border-bottom-color: var(--fill-color);\n",
              "      border-left-color: var(--fill-color);\n",
              "    }\n",
              "    20% {\n",
              "      border-color: transparent;\n",
              "      border-left-color: var(--fill-color);\n",
              "      border-top-color: var(--fill-color);\n",
              "    }\n",
              "    30% {\n",
              "      border-color: transparent;\n",
              "      border-left-color: var(--fill-color);\n",
              "      border-top-color: var(--fill-color);\n",
              "      border-right-color: var(--fill-color);\n",
              "    }\n",
              "    40% {\n",
              "      border-color: transparent;\n",
              "      border-right-color: var(--fill-color);\n",
              "      border-top-color: var(--fill-color);\n",
              "    }\n",
              "    60% {\n",
              "      border-color: transparent;\n",
              "      border-right-color: var(--fill-color);\n",
              "    }\n",
              "    80% {\n",
              "      border-color: transparent;\n",
              "      border-right-color: var(--fill-color);\n",
              "      border-bottom-color: var(--fill-color);\n",
              "    }\n",
              "    90% {\n",
              "      border-color: transparent;\n",
              "      border-bottom-color: var(--fill-color);\n",
              "    }\n",
              "  }\n",
              "</style>\n",
              "\n",
              "  <script>\n",
              "    async function quickchart(key) {\n",
              "      const quickchartButtonEl =\n",
              "        document.querySelector('#' + key + ' button');\n",
              "      quickchartButtonEl.disabled = true;  // To prevent multiple clicks.\n",
              "      quickchartButtonEl.classList.add('colab-df-spinner');\n",
              "      try {\n",
              "        const charts = await google.colab.kernel.invokeFunction(\n",
              "            'suggestCharts', [key], {});\n",
              "      } catch (error) {\n",
              "        console.error('Error during call to suggestCharts:', error);\n",
              "      }\n",
              "      quickchartButtonEl.classList.remove('colab-df-spinner');\n",
              "      quickchartButtonEl.classList.add('colab-df-quickchart-complete');\n",
              "    }\n",
              "    (() => {\n",
              "      let quickchartButtonEl =\n",
              "        document.querySelector('#df-8c6f64d2-9f00-46df-8fbd-e9169d568816 button');\n",
              "      quickchartButtonEl.style.display =\n",
              "        google.colab.kernel.accessAllowed ? 'block' : 'none';\n",
              "    })();\n",
              "  </script>\n",
              "</div>\n",
              "\n",
              "  <div id=\"id_8e038915-e6fd-4a15-92d9-ebebbd6c1fe3\">\n",
              "    <style>\n",
              "      .colab-df-generate {\n",
              "        background-color: #E8F0FE;\n",
              "        border: none;\n",
              "        border-radius: 50%;\n",
              "        cursor: pointer;\n",
              "        display: none;\n",
              "        fill: #1967D2;\n",
              "        height: 32px;\n",
              "        padding: 0 0 0 0;\n",
              "        width: 32px;\n",
              "      }\n",
              "\n",
              "      .colab-df-generate:hover {\n",
              "        background-color: #E2EBFA;\n",
              "        box-shadow: 0px 1px 2px rgba(60, 64, 67, 0.3), 0px 1px 3px 1px rgba(60, 64, 67, 0.15);\n",
              "        fill: #174EA6;\n",
              "      }\n",
              "\n",
              "      [theme=dark] .colab-df-generate {\n",
              "        background-color: #3B4455;\n",
              "        fill: #D2E3FC;\n",
              "      }\n",
              "\n",
              "      [theme=dark] .colab-df-generate:hover {\n",
              "        background-color: #434B5C;\n",
              "        box-shadow: 0px 1px 3px 1px rgba(0, 0, 0, 0.15);\n",
              "        filter: drop-shadow(0px 1px 2px rgba(0, 0, 0, 0.3));\n",
              "        fill: #FFFFFF;\n",
              "      }\n",
              "    </style>\n",
              "    <button class=\"colab-df-generate\" onclick=\"generateWithVariable('df')\"\n",
              "            title=\"Generate code using this dataframe.\"\n",
              "            style=\"display:none;\">\n",
              "\n",
              "  <svg xmlns=\"http://www.w3.org/2000/svg\" height=\"24px\"viewBox=\"0 0 24 24\"\n",
              "       width=\"24px\">\n",
              "    <path d=\"M7,19H8.4L18.45,9,17,7.55,7,17.6ZM5,21V16.75L18.45,3.32a2,2,0,0,1,2.83,0l1.4,1.43a1.91,1.91,0,0,1,.58,1.4,1.91,1.91,0,0,1-.58,1.4L9.25,21ZM18.45,9,17,7.55Zm-12,3A5.31,5.31,0,0,0,4.9,8.1,5.31,5.31,0,0,0,1,6.5,5.31,5.31,0,0,0,4.9,4.9,5.31,5.31,0,0,0,6.5,1,5.31,5.31,0,0,0,8.1,4.9,5.31,5.31,0,0,0,12,6.5,5.46,5.46,0,0,0,6.5,12Z\"/>\n",
              "  </svg>\n",
              "    </button>\n",
              "    <script>\n",
              "      (() => {\n",
              "      const buttonEl =\n",
              "        document.querySelector('#id_8e038915-e6fd-4a15-92d9-ebebbd6c1fe3 button.colab-df-generate');\n",
              "      buttonEl.style.display =\n",
              "        google.colab.kernel.accessAllowed ? 'block' : 'none';\n",
              "\n",
              "      buttonEl.onclick = () => {\n",
              "        google.colab.notebook.generateWithVariable('df');\n",
              "      }\n",
              "      })();\n",
              "    </script>\n",
              "  </div>\n",
              "\n",
              "    </div>\n",
              "  </div>\n"
            ],
            "application/vnd.google.colaboratory.intrinsic+json": {
              "type": "dataframe",
              "variable_name": "df",
              "summary": "{\n  \"name\": \"df\",\n  \"rows\": 20,\n  \"fields\": [\n    {\n      \"column\": \"Student_ID\",\n      \"properties\": {\n        \"dtype\": \"number\",\n        \"std\": 5,\n        \"min\": 1,\n        \"max\": 20,\n        \"num_unique_values\": 20,\n        \"samples\": [\n          1,\n          18,\n          16\n        ],\n        \"semantic_type\": \"\",\n        \"description\": \"\"\n      }\n    },\n    {\n      \"column\": \"Physics\",\n      \"properties\": {\n        \"dtype\": \"number\",\n        \"std\": 22.822477890799313,\n        \"min\": 9.0,\n        \"max\": 92.0,\n        \"num_unique_values\": 18,\n        \"samples\": [\n          63.0,\n          52.0,\n          9.0\n        ],\n        \"semantic_type\": \"\",\n        \"description\": \"\"\n      }\n    },\n    {\n      \"column\": \"Chemistry\",\n      \"properties\": {\n        \"dtype\": \"number\",\n        \"std\": 25,\n        \"min\": 2,\n        \"max\": 98,\n        \"num_unique_values\": 19,\n        \"samples\": [\n          37,\n          38,\n          36\n        ],\n        \"semantic_type\": \"\",\n        \"description\": \"\"\n      }\n    },\n    {\n      \"column\": \"Math\",\n      \"properties\": {\n        \"dtype\": \"number\",\n        \"std\": 30.186215435843913,\n        \"min\": 1.0,\n        \"max\": 94.0,\n        \"num_unique_values\": 18,\n        \"samples\": [\n          85.0,\n          34.0,\n          38.0\n        ],\n        \"semantic_type\": \"\",\n        \"description\": \"\"\n      }\n    },\n    {\n      \"column\": \"Bilogy\",\n      \"properties\": {\n        \"dtype\": \"number\",\n        \"std\": 30.164920647552346,\n        \"min\": 2.0,\n        \"max\": 94.0,\n        \"num_unique_values\": 18,\n        \"samples\": [\n          94.0,\n          24.0,\n          44.0\n        ],\n        \"semantic_type\": \"\",\n        \"description\": \"\"\n      }\n    }\n  ]\n}"
            }
          },
          "metadata": {},
          "execution_count": 32
        }
      ]
    },
    {
      "cell_type": "code",
      "source": [
        "#6\n",
        "print(df['Math'])  #print only the 'Math' column"
      ],
      "metadata": {
        "colab": {
          "base_uri": "https://localhost:8080/"
        },
        "id": "hr9DmACIcAwM",
        "outputId": "ad6b84d2-2332-46a0-d897-b86d64c82246"
      },
      "execution_count": 34,
      "outputs": [
        {
          "output_type": "stream",
          "name": "stdout",
          "text": [
            "0     85.000000\n",
            "1     34.000000\n",
            "2      2.000000\n",
            "3      5.000000\n",
            "4      1.000000\n",
            "5     26.000000\n",
            "6     45.000000\n",
            "7     41.944444\n",
            "8     38.000000\n",
            "9     10.000000\n",
            "10     4.000000\n",
            "11    33.000000\n",
            "12    74.000000\n",
            "13    33.000000\n",
            "14    73.000000\n",
            "15    94.000000\n",
            "16    41.944444\n",
            "17    36.000000\n",
            "18    75.000000\n",
            "19    87.000000\n",
            "Name: Math, dtype: float64\n"
          ]
        }
      ]
    },
    {
      "cell_type": "code",
      "source": [
        "import matplotlib.pyplot as plt"
      ],
      "metadata": {
        "id": "OiIth9qrctOh"
      },
      "execution_count": 35,
      "outputs": []
    },
    {
      "cell_type": "code",
      "source": [
        "#1\n",
        "temperature_dhaka = [25, 34, 21, 45, 28, 6, 43, 18, 7, 2]\n",
        "humidity_dhaka = [28, 25, 29, 20, 26, 50, 19, 29, 52, 55]\n",
        "plt.scatter(temperature_dhaka, humidity_dhaka, marker='*', color='red')\n",
        "plt.xlabel('Temperature in Dhaka (°C)')\n",
        "plt.ylabel('Humidity in Dhaka (%)')\n",
        "plt.title('Temperature vs Humidity in Dhaka')\n",
        "plt.show()"
      ],
      "metadata": {
        "colab": {
          "base_uri": "https://localhost:8080/",
          "height": 472
        },
        "id": "dYcOK3zOcwgJ",
        "outputId": "0fe881d1-0ab9-44a5-d753-ab5e8e258523"
      },
      "execution_count": 37,
      "outputs": [
        {
          "output_type": "display_data",
          "data": {
            "text/plain": [
              "<Figure size 640x480 with 1 Axes>"
            ],
            "image/png": "[encoded data removed]"
          },
          "metadata": {}
        }
      ]
    },
    {
      "cell_type": "code",
      "source": [
        "#2\n",
        "study_hours = [2,3,4,4, 5, 6, 7, 7, 8, 9, 9, 10, 11, 11, 12]\n",
        "marks = [6, 10, 15, 20, 34, 44, 55, 60, 55, 67, 70, 80, 90, 99, 100]\n",
        "\n",
        "plt.figure(figsize=(12, 8))\n",
        "plt.plot(study_hours, marks)\n",
        "plt.xlabel('Study Hours')\n",
        "plt.ylabel('Marks')\n",
        "plt.title('Study Hours vs Marks')\n",
        "plt.show()\n"
      ],
      "metadata": {
        "colab": {
          "base_uri": "https://localhost:8080/",
          "height": 718
        },
        "id": "o-o5KL13c0jC",
        "outputId": "29e862a5-1b63-47d4-ada6-949ec807226f"
      },
      "execution_count": 40,
      "outputs": [
        {
          "output_type": "display_data",
          "data": {
            "text/plain": [
              "<Figure size 1200x800 with 1 Axes>"
            ],
            "image/png": "[encoded data removed]"
          },
          "metadata": {}
        }
      ]
    },
    {
      "cell_type": "code",
      "source": [
        "#3\n",
        "subjects = ['Maths', 'English', 'Science', 'Physics', 'Computer']\n",
        "marks = [89, 90, 45, 78, 99]\n",
        "\n",
        "plt.barh(subjects, marks)  # Use barh for horizontal bar graph\n",
        "plt.xlabel('Marks')\n",
        "plt.ylabel('Subjects')\n",
        "plt.title('Subject Scores')\n",
        "plt.show()"
      ],
      "metadata": {
        "colab": {
          "base_uri": "https://localhost:8080/",
          "height": 472
        },
        "id": "DBhLKZBgwVQI",
        "outputId": "6fa943e0-02f9-481c-f3d7-b2c9895f2bb6"
      },
      "execution_count": 41,
      "outputs": [
        {
          "output_type": "display_data",
          "data": {
            "text/plain": [
              "<Figure size 640x480 with 1 Axes>"
            ],
            "image/png": "[encoded data removed]"
          },
          "metadata": {}
        }
      ]
    },
    {
      "cell_type": "code",
      "source": [
        "#4\n",
        "colors = ['red', 'green', 'blue', 'orange', 'purple']\n",
        "\n",
        "plt.figure(figsize=(8, 6))\n",
        "plt.bar(subjects, marks, color=colors)\n",
        "plt.xlabel('Subjects')\n",
        "plt.ylabel('Marks')\n",
        "plt.title('Subject Scores')\n",
        "plt.xticks(rotation=45)  # Rotate x-axis labels for better readability\n",
        "plt.show()"
      ],
      "metadata": {
        "colab": {
          "base_uri": "https://localhost:8080/",
          "height": 609
        },
        "id": "0uO23-LFxoR-",
        "outputId": "80f0ae13-b99c-47a9-e002-cf9e5837dba7"
      },
      "execution_count": 44,
      "outputs": [
        {
          "output_type": "display_data",
          "data": {
            "text/plain": [
              "<Figure size 800x600 with 1 Axes>"
            ],
            "image/png": "[encoded data removed]"
          },
          "metadata": {}
        }
      ]
    },
    {
      "cell_type": "code",
      "source": [
        "#5\n",
        "# 1. Scatter plot\n",
        "temperature_dhaka = [25, 34, 21, 45, 28, 6, 43, 18, 7, 2]\n",
        "humidity_dhaka = [28, 25, 29, 20, 26, 50, 19, 29, 52, 55]\n",
        "\n",
        "plt.figure(figsize=(12, 8))\n",
        "plt.subplot(2, 2, 1)\n",
        "plt.scatter(temperature_dhaka, humidity_dhaka, marker='*', color='red')\n",
        "plt.xlabel('Temperature in Dhaka (°C)')\n",
        "plt.ylabel('Humidity in Dhaka (%)')\n",
        "plt.title('Temperature vs Humidity in Dhaka')\n",
        "\n",
        "# 2. Line plot\n",
        "study_hours = [2, 3, 4, 4, 5, 6, 7, 7, 8, 9, 9, 10, 11, 11, 12]\n",
        "marks = [6, 10, 15, 20, 34, 44, 55, 60, 55, 67, 70, 80, 90, 99, 100]\n",
        "\n",
        "plt.subplot(2, 2, 2)\n",
        "plt.plot(study_hours, marks)\n",
        "plt.xlabel('Study Hours')\n",
        "plt.ylabel('Marks')\n",
        "plt.title('Study Hours vs Marks')\n",
        "\n",
        "# 3. Horizontal bar graph\n",
        "subjects = ['Maths', 'English', 'Science', 'Physics', 'Computer']\n",
        "marks = [89, 90, 45, 78, 99]\n",
        "\n",
        "plt.subplot(2, 2, 3)\n",
        "plt.barh(subjects, marks)\n",
        "plt.xlabel('Marks')\n",
        "plt.ylabel('Subjects')\n",
        "plt.title('Subject Scores (Horizontal Bar)')\n",
        "\n",
        "# 4. Vertical bar graph\n",
        "colors = ['red', 'green', 'blue', 'orange', 'purple']\n",
        "\n",
        "plt.subplot(2, 2, 4)\n",
        "plt.bar(subjects, marks, color=colors)\n",
        "plt.xlabel('Subjects')\n",
        "plt.ylabel('Marks')\n",
        "plt.title('Subject Scores (Vertical Bar)')\n",
        "plt.xticks(rotation=45)\n",
        "\n",
        "plt.tight_layout()#Adjust spacing between subplots\n",
        "plt.show()"
      ],
      "metadata": {
        "colab": {
          "base_uri": "https://localhost:8080/",
          "height": 711
        },
        "id": "x-PdooxfyABV",
        "outputId": "bf277659-dddf-41c9-ae6c-053d3c165a44"
      },
      "execution_count": 45,
      "outputs": [
        {
          "output_type": "display_data",
          "data": {
            "text/plain": [
              "<Figure size 1200x800 with 4 Axes>"
            ],
            "image/png": "[encoded data removed]"
          },
          "metadata": {}
        }
      ]
    }
  ]
}