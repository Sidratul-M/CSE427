{
  "nbformat": 4,
  "nbformat_minor": 0,
  "metadata": {
    "colab": {
      "provenance": [],
      "include_colab_link": true
    },
    "kernelspec": {
      "name": "python3",
      "display_name": "Python 3"
    },
    "language_info": {
      "name": "python"
    }
  },
  "cells": [
    {
      "cell_type": "markdown",
      "metadata": {
        "id": "view-in-github",
        "colab_type": "text"
      },
      "source": [
        "<a href=\"https://colab.research.google.com/github/Sidratul-M/CSE427/blob/main/21301300_SidratulMontaha_CSE427LabAssignment4.ipynb\" target=\"_parent\"><img src=\"https://colab.research.google.com/assets/colab-badge.svg\" alt=\"Open In Colab\"/></a>"
      ]
    },
    {
      "cell_type": "code",
      "execution_count": null,
      "metadata": {
        "id": "JFZPU7oO0ovh"
      },
      "outputs": [],
      "source": [
        "# import necessary libraries\n",
        "import numpy as np\n",
        "from collections import Counter\n",
        "from sklearn.model_selection import train_test_split\n",
        "from sklearn.datasets import load_iris\n",
        "from sklearn.metrics import accuracy_score\n",
        "from sklearn.model_selection import cross_val_score\n",
        "import matplotlib.pyplot as plt"
      ]
    },
    {
      "cell_type": "markdown",
      "source": [
        "# Implementing KNN Classifier from Scratch"
      ],
      "metadata": {
        "id": "61ePAAeU8An6"
      }
    },
    {
      "cell_type": "code",
      "source": [
        "class KNN:\n",
        "    def __init__(self, k):\n",
        "        # assign the neighbour count\n",
        "        self.k=k\n",
        "        self.X_train=None\n",
        "        self.y_train=None\n",
        "\n",
        "\n",
        "\n",
        "\n",
        "    def euclidean_distance(self, point1, point2):\n",
        "        # return the euclidean distance between two points\n",
        "        return np.sqrt(np.sum((point1-point2)**2))\n",
        "\n",
        "\n",
        "    def fit(self, X_train, y_train):\n",
        "        # assign the train and test data\n",
        "        self.X_train=X_train\n",
        "        self.y_train=y_train\n",
        "\n",
        "\n",
        "\n",
        "    def predict(self, X_test):\n",
        "        # this method iterates over all the data points in our test dataset and stores their individual labels\n",
        "        # Hint: during each iteration, you have to call the predict_label method below to get the label\n",
        "        # returns the prediction of each dataset altogether as an array\n",
        "        predictions=[]\n",
        "        for i in range(len(X_test)):\n",
        "            predictions.append(self.predict_label(X_test[i]))\n",
        "\n",
        "        return np.array(predictions)\n",
        "\n",
        "\n",
        "\n",
        "    #this predict_label method will return the most common label for the individual data point called from the predict method\n",
        "    def predict_label(self, x):\n",
        "        # Compute distances to all training points\n",
        "        # Sort by distance and get the indices of the nearest neighbors\n",
        "        # Get the labels of the nearest neighbors\n",
        "        # Return the most common class label among the neighbors\n",
        "        distances=[self.euclidean_distance(x, x_train) for x_train in self.X_train]\n",
        "        k_indices=np.argsort(distances)[:self.k]\n",
        "        k_nearest_labels=[self.y_train[i] for i in k_indices]\n",
        "        most_common=Counter(k_nearest_labels).most_common(1)\n",
        "\n",
        "\n",
        "        return most_common[0][0]\n",
        "\n"
      ],
      "metadata": {
        "id": "BL71w3dz7y_6"
      },
      "execution_count": null,
      "outputs": []
    },
    {
      "cell_type": "code",
      "source": [
        "# Load the Iris dataset\n",
        "iris = load_iris()\n",
        "X = iris.data\n",
        "y = iris.target\n",
        "\n",
        "# Split the data into training and test sets\n",
        "X_train, X_test, y_train, y_test = train_test_split(X, y, test_size=0.3, random_state=41)\n",
        "\n",
        "# Initialize KNN classifier with the value of n\n",
        "knn = KNN(3)\n",
        "\n",
        "# Fit the model\n",
        "knn.fit(X_train, y_train)\n",
        "\n",
        "\n",
        "# Predict on the test set\n",
        "y_pred = knn.predict(X_test)\n",
        "\n",
        "# Calculate accuracy\n",
        "accuracy=accuracy_score(y_test,y_pred)######################\n",
        "\n",
        "# Calculate accuracy (write down the equation to calculate accuracy, and uncomment the print function)\n",
        "print(f\"Accuracy of KNN from scratch: {accuracy * 100:.2f}%\")"
      ],
      "metadata": {
        "id": "1tc0aUg-73Jg",
        "colab": {
          "base_uri": "https://localhost:8080/"
        },
        "outputId": "2ab230af-c195-42e7-f84e-4f3ffdf53cdd"
      },
      "execution_count": null,
      "outputs": [
        {
          "output_type": "stream",
          "name": "stdout",
          "text": [
            "Accuracy of KNN from scratch: 91.11%\n"
          ]
        }
      ]
    }
  ]
}