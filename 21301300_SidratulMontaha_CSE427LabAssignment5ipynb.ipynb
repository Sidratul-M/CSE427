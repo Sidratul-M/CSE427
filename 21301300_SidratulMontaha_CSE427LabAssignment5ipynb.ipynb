{
  "nbformat": 4,
  "nbformat_minor": 0,
  "metadata": {
    "colab": {
      "provenance": [],
      "include_colab_link": true
    },
    "kernelspec": {
      "name": "python3",
      "display_name": "Python 3"
    },
    "language_info": {
      "name": "python"
    }
  },
  "cells": [
    {
      "cell_type": "markdown",
      "metadata": {
        "id": "view-in-github",
        "colab_type": "text"
      },
      "source": [
        "<a href=\"https://colab.research.google.com/github/Sidratul-M/CSE427/blob/main/21301300_SidratulMontaha_CSE427LabAssignment5ipynb.ipynb\" target=\"_parent\"><img src=\"https://colab.research.google.com/assets/colab-badge.svg\" alt=\"Open In Colab\"/></a>"
      ]
    },
    {
      "cell_type": "code",
      "execution_count": null,
      "metadata": {
        "id": "wFYOEppZCCMX"
      },
      "outputs": [],
      "source": [
        "import pandas as pd\n",
        "import numpy as np\n",
        "import matplotlib.pyplot as plt"
      ]
    },
    {
      "cell_type": "code",
      "source": [
        "#read data from CSV file\n",
        "file_link = 'https://drive.google.com/file/d/18oM2JuaKEJLnBk5T4ldn30THF3MMV4eM/view?usp=drive_link'\n",
        "#loan_data = pd.read_csv(file_link)\n",
        "new_link = f'https://drive.google.com/uc?id={id}'\n",
        "loan_data= pd.read_csv(new_link)\n",
        "loan_data_info = loan_data.info()\n",
        "loan_data_preview = loan_data.head()\n",
        "\n",
        "loan_data_info, loan_data_preview\n",
        "\n",
        "# get the id part of the file\n",
        "id = file_link.split(\"/\")[-2]\n",
        "\n",
        "# creating a new link using the id for better readability of csv file in pandas\n",
        "\n",
        "# df.count()\n",
        "# df['Class'].value_counts()\n",
        "# df.tail()"
      ],
      "metadata": {
        "colab": {
          "base_uri": "https://localhost:8080/"
        },
        "id": "3KtW9D0GJ3TD",
        "outputId": "b8b04aeb-b592-494e-b8dc-2ae8c996f525"
      },
      "execution_count": null,
      "outputs": [
        {
          "output_type": "stream",
          "name": "stdout",
          "text": [
            "<class 'pandas.core.frame.DataFrame'>\n",
            "RangeIndex: 1199 entries, 0 to 1198\n",
            "Data columns (total 14 columns):\n",
            " #   Column                          Non-Null Count  Dtype  \n",
            "---  ------                          --------------  -----  \n",
            " 0   person_age                      1198 non-null   float64\n",
            " 1   person_gender                   1192 non-null   object \n",
            " 2   person_education                1182 non-null   object \n",
            " 3   person_income                   1182 non-null   float64\n",
            " 4   person_emp_exp                  1195 non-null   float64\n",
            " 5   person_home_ownership           1195 non-null   object \n",
            " 6   loan_amnt                       1188 non-null   float64\n",
            " 7   loan_intent                     1173 non-null   object \n",
            " 8   loan_int_rate                   1190 non-null   float64\n",
            " 9   loan_percent_income             1187 non-null   float64\n",
            " 10  cb_person_cred_hist_length      1192 non-null   float64\n",
            " 11  credit_score                    1189 non-null   float64\n",
            " 12  previous_loan_defaults_on_file  1190 non-null   object \n",
            " 13  loan_status                     1199 non-null   int64  \n",
            "dtypes: float64(8), int64(1), object(5)\n",
            "memory usage: 131.3+ KB\n"
          ]
        }
      ]
    },
    {
      "cell_type": "markdown",
      "source": [
        "EDA and Pre-processing\n"
      ],
      "metadata": {
        "id": "H2hO8HEuIsQI"
      }
    },
    {
      "cell_type": "code",
      "source": [
        "# Separate features and target variable\n",
        "X=loan_data.drop(columns=[\"loan_status\"])\n",
        "y=loan_data[\"loan_status\"]\n"
      ],
      "metadata": {
        "id": "KAiVqYqVLfQY"
      },
      "execution_count": null,
      "outputs": []
    },
    {
      "cell_type": "code",
      "source": [
        "# check for null values\n",
        "df.isnull().sum()"
      ],
      "metadata": {
        "colab": {
          "base_uri": "https://localhost:8080/",
          "height": 523
        },
        "id": "vubxQy2bZ0B6",
        "outputId": "89ebdc8c-664b-451e-aeac-ed0c412caf06"
      },
      "execution_count": null,
      "outputs": [
        {
          "output_type": "execute_result",
          "data": {
            "text/plain": [
              "person_age                         1\n",
              "person_gender                      7\n",
              "person_education                  17\n",
              "person_income                     17\n",
              "person_emp_exp                     4\n",
              "person_home_ownership              4\n",
              "loan_amnt                         11\n",
              "loan_intent                       26\n",
              "loan_int_rate                      9\n",
              "loan_percent_income               12\n",
              "cb_person_cred_hist_length         7\n",
              "credit_score                      10\n",
              "previous_loan_defaults_on_file     9\n",
              "loan_status                        0\n",
              "dtype: int64"
            ],
            "text/html": [
              "<div>\n",
              "<style scoped>\n",
              "    .dataframe tbody tr th:only-of-type {\n",
              "        vertical-align: middle;\n",
              "    }\n",
              "\n",
              "    .dataframe tbody tr th {\n",
              "        vertical-align: top;\n",
              "    }\n",
              "\n",
              "    .dataframe thead th {\n",
              "        text-align: right;\n",
              "    }\n",
              "</style>\n",
              "<table border=\"1\" class=\"dataframe\">\n",
              "  <thead>\n",
              "    <tr style=\"text-align: right;\">\n",
              "      <th></th>\n",
              "      <th>0</th>\n",
              "    </tr>\n",
              "  </thead>\n",
              "  <tbody>\n",
              "    <tr>\n",
              "      <th>person_age</th>\n",
              "      <td>1</td>\n",
              "    </tr>\n",
              "    <tr>\n",
              "      <th>person_gender</th>\n",
              "      <td>7</td>\n",
              "    </tr>\n",
              "    <tr>\n",
              "      <th>person_education</th>\n",
              "      <td>17</td>\n",
              "    </tr>\n",
              "    <tr>\n",
              "      <th>person_income</th>\n",
              "      <td>17</td>\n",
              "    </tr>\n",
              "    <tr>\n",
              "      <th>person_emp_exp</th>\n",
              "      <td>4</td>\n",
              "    </tr>\n",
              "    <tr>\n",
              "      <th>person_home_ownership</th>\n",
              "      <td>4</td>\n",
              "    </tr>\n",
              "    <tr>\n",
              "      <th>loan_amnt</th>\n",
              "      <td>11</td>\n",
              "    </tr>\n",
              "    <tr>\n",
              "      <th>loan_intent</th>\n",
              "      <td>26</td>\n",
              "    </tr>\n",
              "    <tr>\n",
              "      <th>loan_int_rate</th>\n",
              "      <td>9</td>\n",
              "    </tr>\n",
              "    <tr>\n",
              "      <th>loan_percent_income</th>\n",
              "      <td>12</td>\n",
              "    </tr>\n",
              "    <tr>\n",
              "      <th>cb_person_cred_hist_length</th>\n",
              "      <td>7</td>\n",
              "    </tr>\n",
              "    <tr>\n",
              "      <th>credit_score</th>\n",
              "      <td>10</td>\n",
              "    </tr>\n",
              "    <tr>\n",
              "      <th>previous_loan_defaults_on_file</th>\n",
              "      <td>9</td>\n",
              "    </tr>\n",
              "    <tr>\n",
              "      <th>loan_status</th>\n",
              "      <td>0</td>\n",
              "    </tr>\n",
              "  </tbody>\n",
              "</table>\n",
              "</div><br><label><b>dtype:</b> int64</label>"
            ]
          },
          "metadata": {},
          "execution_count": 63
        }
      ]
    },
    {
      "cell_type": "code",
      "source": [
        "\n",
        "from sklearn.impute import SimpleImputer\n",
        "categorical_cols = X.select_dtypes(include=[\"object\"]).columns\n",
        "cat_imputer=SimpleImputer(strategy=\"most_frequent\")\n",
        "X[categorical_cols]=cat_imputer.fit_transform(X[categorical_cols])\n",
        "\n"
      ],
      "metadata": {
        "id": "TMlJxsbGhO9i"
      },
      "execution_count": null,
      "outputs": []
    },
    {
      "cell_type": "code",
      "source": [
        "loan_data.drop_duplicates()\n",
        "loan_data.shape"
      ],
      "metadata": {
        "colab": {
          "base_uri": "https://localhost:8080/"
        },
        "id": "ykBjn9yzb1tj",
        "outputId": "f0e1b4c0-a221-40b5-d92a-3a193226d8aa"
      },
      "execution_count": null,
      "outputs": [
        {
          "output_type": "execute_result",
          "data": {
            "text/plain": [
              "(1199, 14)"
            ]
          },
          "metadata": {},
          "execution_count": 66
        }
      ]
    },
    {
      "cell_type": "code",
      "source": [
        "\n",
        "numerical_cols=X.select_dtypes(include=[\"float64\"]).columns\n",
        "num_imputer=SimpleImputer(strategy=\"mean\")\n",
        "X[numerical_cols]=num_imputer.fit_transform(X[numerical_cols])\n",
        "\n"
      ],
      "metadata": {
        "id": "1iAVwrcfaCq8"
      },
      "execution_count": null,
      "outputs": []
    },
    {
      "cell_type": "code",
      "source": [
        "#encode\n",
        "from sklearn.preprocessing import StandardScaler, LabelEncoder\n",
        "label_encoders={}\n",
        "for col in categorical_cols:\n",
        "    le=LabelEncoder()\n",
        "    X[col]=le.fit_transform(X[col])\n",
        "    label_encoders[col]=le\n",
        "\n"
      ],
      "metadata": {
        "id": "vkIvJoaZSEuz"
      },
      "execution_count": null,
      "outputs": []
    },
    {
      "cell_type": "markdown",
      "source": [
        "# Implementing SVM Using Scikit-learn Library"
      ],
      "metadata": {
        "id": "NQhVNvXvW0Xp"
      }
    },
    {
      "cell_type": "code",
      "source": [
        "#train/test split\n",
        "from sklearn.model_selection import train_test_split\n",
        "#standardize\n",
        "scaler = StandardScaler()\n",
        "X[numerical_cols]=scaler.fit_transform(X[numerical_cols])\n",
        "X_train, X_test, y_train, y_test=train_test_split(X, y, test_size=0.3, random_state=42, stratify=y)\n",
        "X_train.shape, X_test.shape, y_train.value_counts(), X_train.head()"
      ],
      "metadata": {
        "colab": {
          "base_uri": "https://localhost:8080/"
        },
        "id": "0kddGJDCTdvr",
        "outputId": "7ed74852-1378-4605-f008-ad3fef2d9b55"
      },
      "execution_count": null,
      "outputs": [
        {
          "output_type": "execute_result",
          "data": {
            "text/plain": [
              "((839, 13),\n",
              " (360, 13),\n",
              " loan_status\n",
              " 1    438\n",
              " 0    401\n",
              " Name: count, dtype: int64,\n",
              "      person_age  person_gender  person_education  person_income  \\\n",
              " 401   -0.310862              0                 1       0.583628   \n",
              " 726    0.301155              0                 1       0.006131   \n",
              " 646   -0.157857              1                 1      -0.947070   \n",
              " 168    0.148151              1                 1      -0.356103   \n",
              " 664   -0.310862              1                 0      -0.937185   \n",
              " \n",
              "      person_emp_exp  person_home_ownership  loan_amnt  loan_intent  \\\n",
              " 401        0.144033                      3   0.879108            2   \n",
              " 726        0.294751                      3   0.382202            1   \n",
              " 646       -0.308120                      0  -1.713187            1   \n",
              " 168        0.144033                      3   0.980884            2   \n",
              " 664       -0.308120                      0  -1.294109            1   \n",
              " \n",
              "      loan_int_rate  loan_percent_income  cb_person_cred_hist_length  \\\n",
              " 401       0.973648            -0.414746                    0.000000   \n",
              " 726      -0.343850            -0.046186                    0.000000   \n",
              " 646       1.594039            -1.151866                   -1.225768   \n",
              " 168       1.594039             1.428053                    1.225768   \n",
              " 664       1.317198             0.045954                    1.225768   \n",
              " \n",
              "      credit_score  previous_loan_defaults_on_file  \n",
              " 401      1.164996                               0  \n",
              " 726     -0.462402                               0  \n",
              " 646     -2.069458                               1  \n",
              " 168      0.941229                               0  \n",
              " 664     -0.055553                               0  )"
            ]
          },
          "metadata": {},
          "execution_count": 69
        }
      ]
    },
    {
      "cell_type": "code",
      "source": [
        "from sklearn.svm import SVC\n",
        "from sklearn.metrics import classification_report, accuracy_score\n",
        "\n"
      ],
      "metadata": {
        "id": "OH7agRigik9B"
      },
      "execution_count": null,
      "outputs": []
    },
    {
      "cell_type": "code",
      "source": [
        "svm_model = SVC(kernel=\"rbf\", random_state=42)\n",
        "svm_model.fit(X_train, y_train)\n",
        "y_pred = svm_model.predict(X_test)\n",
        "#Eval\n",
        "accuracy = accuracy_score(y_test, y_pred)\n",
        "accuracy"
      ],
      "metadata": {
        "colab": {
          "base_uri": "https://localhost:8080/"
        },
        "id": "kW3seq_Tihta",
        "outputId": "ddc15d51-1697-4aab-840f-0c1ccefbb3fc"
      },
      "execution_count": null,
      "outputs": [
        {
          "output_type": "execute_result",
          "data": {
            "text/plain": [
              "0.8833333333333333"
            ]
          },
          "metadata": {},
          "execution_count": 71
        }
      ]
    }
  ]
}